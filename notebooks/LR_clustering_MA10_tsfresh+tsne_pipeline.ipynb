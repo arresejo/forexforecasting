{
 "cells": [
  {
   "cell_type": "code",
   "execution_count": 1,
   "id": "ebf97e7e",
   "metadata": {
    "execution": {
     "iopub.execute_input": "2023-08-30T23:24:35.031663Z",
     "iopub.status.busy": "2023-08-30T23:24:35.030966Z",
     "iopub.status.idle": "2023-08-30T23:24:38.366144Z",
     "shell.execute_reply": "2023-08-30T23:24:38.365794Z"
    },
    "papermill": {
     "duration": 3.344446,
     "end_time": "2023-08-30T23:24:38.367322",
     "exception": false,
     "start_time": "2023-08-30T23:24:35.022876",
     "status": "completed"
    },
    "tags": []
   },
   "outputs": [],
   "source": [
    "import sys\n",
    "import os\n",
    "import pandas as pd\n",
    "import matplotlib.pyplot as plt\n",
    "\n",
    "sys.path.insert(0, os.path.abspath('..'))\n",
    "\n",
    "from src.config import TSFRESH, TSFRESH_TSNE\n",
    "from src.features import build_features_prediction_with_clustering, build_features_clustering_tsfresh\n",
    "from src.models.prediction import LR_clustering_model\n",
    "from src.preprocessing import preprocess_prediction_with_clustering, preprocess_clustering, preprocess_prediction\n",
    "from src.features.reduction import reduce_features_tsne\n",
    "from src.models.clustering import hdbs"
   ]
  },
  {
   "cell_type": "code",
   "execution_count": 2,
   "id": "85adddc6",
   "metadata": {
    "execution": {
     "iopub.execute_input": "2023-08-30T23:24:38.370403Z",
     "iopub.status.busy": "2023-08-30T23:24:38.369994Z",
     "iopub.status.idle": "2023-08-30T23:24:38.372498Z",
     "shell.execute_reply": "2023-08-30T23:24:38.372249Z"
    },
    "papermill": {
     "duration": 0.005072,
     "end_time": "2023-08-30T23:24:38.373431",
     "exception": false,
     "start_time": "2023-08-30T23:24:38.368359",
     "status": "completed"
    },
    "tags": []
   },
   "outputs": [],
   "source": [
    "MA_WINDOW_SIZE = 10"
   ]
  },
  {
   "cell_type": "code",
   "execution_count": 3,
   "id": "6f3c498c",
   "metadata": {
    "execution": {
     "iopub.execute_input": "2023-08-30T23:24:38.375470Z",
     "iopub.status.busy": "2023-08-30T23:24:38.375346Z",
     "iopub.status.idle": "2023-08-30T23:24:44.066189Z",
     "shell.execute_reply": "2023-08-30T23:24:44.065331Z"
    },
    "papermill": {
     "duration": 5.980471,
     "end_time": "2023-08-30T23:24:44.354767",
     "exception": false,
     "start_time": "2023-08-30T23:24:38.374296",
     "status": "completed"
    },
    "scrolled": false,
    "tags": []
   },
   "outputs": [
    {
     "name": "stdout",
     "output_type": "stream",
     "text": [
      "*** Preprocessing for prediction ***\n",
      "*** Preprocessing for clustering ***\n"
     ]
    },
    {
     "name": "stdout",
     "output_type": "stream",
     "text": [
      "*** Preprocessing for prediction with clustering ***\n"
     ]
    },
    {
     "name": "stdout",
     "output_type": "stream",
     "text": [
      "*** Building features for clustering ***\n",
      "Features file already available for period 0\n",
      "Features file already available for period 1\n",
      "Features file already available for period 2\n",
      "Features file already available for period 3\n",
      "Features file already available for period 4\n",
      "Features file already available for period 5\n"
     ]
    },
    {
     "name": "stdout",
     "output_type": "stream",
     "text": [
      "*** Running model on period 0 ***\n",
      "\n",
      "Clusters for period 0:\n",
      "{2: ['AUDCAD', 'AUDNZD', 'AUDUSD', 'NZDCAD', 'NZDUSD'], 0: ['AUDCHF', 'CADCHF', 'EURCHF', 'GBPCHF', 'NZDCHF', 'USDCHF'], 1: ['AUDJPY', 'CADJPY', 'CHFJPY', 'EURJPY', 'GBPJPY', 'NZDJPY', 'SGDJPY', 'USDJPY', 'ZARJPY'], 4: ['EURAUD', 'EURCAD', 'EURCZK', 'EURDKK', 'EURGBP', 'EURHUF', 'EURNOK', 'EURNZD', 'EURPLN', 'EURSEK', 'EURUSD', 'GBPAUD', 'GBPCAD', 'GBPNZD', 'GBPUSD', 'USDCAD', 'USDHKD', 'USDMXN', 'USDSGD', 'USDTRY', 'USDZAR'], -1: ['EURTRY'], 3: ['USDCZK', 'USDDKK', 'USDHUF', 'USDNOK', 'USDPLN', 'USDSEK']} \n",
      "\n",
      "\n",
      "Metrics for period 0:\n",
      "   Silhouette  Calinski Harabasz  Davies Bouldin\n",
      "0    0.631297         358.081272        0.380247 \n",
      "\n",
      "*** Running model on period 1 ***\n",
      "\n",
      "Clusters for period 1:\n",
      "{4: ['AUDCAD', 'AUDNZD', 'AUDUSD', 'NZDCAD', 'NZDUSD'], 0: ['AUDCHF', 'CADCHF', 'EURCHF', 'GBPCHF', 'NZDCHF', 'USDCHF'], 2: ['AUDJPY', 'CADJPY', 'CHFJPY', 'EURJPY', 'NZDJPY', 'SGDJPY', 'USDJPY', 'ZARJPY'], 5: ['EURAUD', 'EURCAD', 'EURGBP', 'EURNOK', 'EURNZD', 'EURUSD', 'USDCAD', 'USDCZK', 'USDDKK', 'USDHUF', 'USDMXN', 'USDNOK', 'USDPLN', 'USDSEK', 'USDSGD'], 3: ['EURCZK', 'EURDKK', 'EURHUF', 'EURSEK', 'USDHKD'], -1: ['EURPLN', 'EURTRY', 'USDTRY', 'USDZAR'], 1: ['GBPAUD', 'GBPCAD', 'GBPJPY', 'GBPNZD', 'GBPUSD']} \n",
      "\n",
      "\n",
      "Metrics for period 1:\n",
      "   Silhouette  Calinski Harabasz  Davies Bouldin\n",
      "0    0.591794         103.882418        0.465935 \n",
      "\n",
      "*** Running model on period 2 ***\n",
      "\n",
      "Clusters for period 2:\n",
      "{6: ['AUDCAD', 'AUDNZD', 'AUDUSD', 'NZDCAD', 'NZDUSD'], 0: ['AUDCHF', 'CADCHF', 'EURCHF', 'GBPCHF', 'NZDCHF', 'USDCHF'], 3: ['AUDJPY', 'CADJPY', 'CHFJPY', 'EURJPY', 'NZDJPY', 'SGDJPY', 'USDJPY', 'ZARJPY'], 1: ['EURAUD', 'EURCAD', 'EURGBP', 'EURNZD', 'EURUSD'], 5: ['EURCZK', 'EURDKK', 'USDHKD'], 8: ['EURHUF', 'EURPLN', 'EURSEK'], -1: ['EURNOK', 'USDCAD'], 4: ['EURTRY', 'USDMXN', 'USDTRY', 'USDZAR'], 2: ['GBPAUD', 'GBPCAD', 'GBPJPY', 'GBPNZD', 'GBPUSD'], 7: ['USDCZK', 'USDDKK', 'USDHUF', 'USDNOK', 'USDPLN', 'USDSEK', 'USDSGD']} \n",
      "\n",
      "\n",
      "Metrics for period 2:\n",
      "   Silhouette  Calinski Harabasz  Davies Bouldin\n",
      "0    0.704379         544.687026        0.341588 \n",
      "\n",
      "*** Running model on period 3 ***\n",
      "\n",
      "Clusters for period 3:\n",
      "{4: ['AUDCAD', 'AUDCHF', 'AUDUSD', 'CADCHF', 'NZDCAD', 'NZDCHF', 'NZDUSD'], 0: ['AUDJPY', 'CADJPY', 'CHFJPY', 'EURJPY', 'NZDJPY', 'SGDJPY', 'USDJPY', 'ZARJPY'], 5: ['AUDNZD', 'USDCHF', 'USDCZK', 'USDDKK', 'USDHUF', 'USDMXN', 'USDNOK', 'USDPLN', 'USDSEK', 'USDZAR'], 2: ['EURAUD', 'EURCAD', 'EURGBP', 'EURNZD', 'EURUSD'], 3: ['EURCHF', 'EURCZK', 'EURDKK', 'EURHUF', 'EURNOK', 'EURPLN', 'EURSEK', 'USDCAD', 'USDHKD', 'USDSGD'], -1: ['EURTRY', 'USDTRY'], 1: ['GBPAUD', 'GBPCAD', 'GBPCHF', 'GBPJPY', 'GBPNZD', 'GBPUSD']} \n",
      "\n",
      "\n",
      "Metrics for period 3:\n",
      "   Silhouette  Calinski Harabasz  Davies Bouldin\n",
      "0    0.723479         245.302031        0.354609 \n",
      "\n",
      "*** Running model on period 4 ***\n",
      "\n",
      "Clusters for period 4:\n",
      "{6: ['AUDCAD', 'AUDUSD', 'NZDCAD', 'NZDUSD'], 3: ['AUDCHF', 'CADCHF', 'NZDCHF'], 4: ['AUDJPY', 'CADJPY', 'CHFJPY', 'EURJPY', 'NZDJPY', 'SGDJPY', 'USDJPY', 'ZARJPY'], 5: ['AUDNZD', 'EURAUD', 'EURCAD', 'EURGBP', 'EURNZD', 'EURUSD'], 1: ['EURCHF', 'EURNOK', 'EURSEK', 'USDCAD'], 7: ['EURCZK', 'EURDKK', 'USDHKD'], 8: ['EURHUF', 'EURPLN', 'USDSGD'], -1: ['EURTRY', 'USDTRY'], 0: ['GBPAUD', 'GBPCAD', 'GBPCHF', 'GBPJPY', 'GBPNZD', 'GBPUSD'], 2: ['USDCHF', 'USDCZK', 'USDDKK', 'USDHUF', 'USDMXN', 'USDNOK', 'USDPLN', 'USDSEK', 'USDZAR']} \n",
      "\n",
      "\n",
      "Metrics for period 4:\n",
      "   Silhouette  Calinski Harabasz  Davies Bouldin\n",
      "0    0.605236         171.613812        0.402194 \n",
      "\n",
      "*** Running model on period 5 ***\n",
      "\n",
      "Clusters for period 5:\n",
      "{0: ['AUDCAD', 'AUDCHF', 'AUDJPY', 'AUDUSD', 'NZDCAD', 'NZDCHF', 'NZDJPY', 'NZDUSD', 'ZARJPY'], 1: ['AUDNZD', 'CADCHF', 'CADJPY', 'CHFJPY', 'EURCHF', 'EURDKK', 'EURJPY', 'EURUSD', 'SGDJPY', 'USDJPY'], -1: ['EURAUD', 'EURNOK', 'EURNZD', 'EURTRY', 'USDHKD', 'USDTRY'], 4: ['EURCAD', 'EURCZK', 'EURGBP', 'EURHUF', 'EURPLN', 'GBPAUD', 'GBPCAD', 'GBPNZD', 'USDCAD', 'USDCHF', 'USDDKK', 'USDSGD'], 3: ['EURSEK', 'USDCZK', 'USDHUF', 'USDMXN', 'USDNOK', 'USDPLN', 'USDSEK', 'USDZAR'], 2: ['GBPCHF', 'GBPJPY', 'GBPUSD']} \n",
      "\n",
      "\n",
      "Metrics for period 5:\n",
      "   Silhouette  Calinski Harabasz  Davies Bouldin\n",
      "0    0.516403          94.037747         0.56954 \n",
      "\n",
      "*** Building features for prediction with clustering ***\n"
     ]
    },
    {
     "name": "stdout",
     "output_type": "stream",
     "text": [
      "\n",
      "MA Window Size: 10\n",
      "\n",
      "Python Platform: macOS-13.4-arm64-arm-64bit\n",
      "Tensor Flow Version: 2.13.0\n",
      "\n",
      "Python 3.9.15 (main, Dec  1 2022, 11:52:11) \n",
      "[Clang 14.0.0 (clang-1400.0.29.202)]\n",
      "Pandas 2.0.2\n",
      "Scikit-Learn 1.2.2\n",
      "SciPy 1.11.2\n",
      "GPU is available\n",
      "\n",
      "*** Running model on EURUSD ***\n",
      "\n",
      "Metrics for EURUSD:\n",
      "          Log Loss  Accuracy       AUC   Returns        SD        SR\n",
      "Period 1  1.976316     0.460  0.475399  0.000501  0.087618  0.049586\n",
      "Period 2  1.887330     0.504  0.490071 -0.068163  0.087613 -0.768198\n",
      "Period 3  1.619028     0.552  0.568665 -0.174871  0.071476 -2.673950\n",
      "Period 4  1.417124     0.536  0.553013 -0.034476  0.054308 -0.624005\n",
      "Period 5  1.401772     0.520  0.530549 -0.117479  0.065668 -1.884992\n",
      "Period 6  2.871073     0.464  0.481467  0.014400  0.058005  0.277440\n",
      "Mean      1.862107     0.506  0.516527 -0.063348  0.070781 -0.937353 \n",
      "\n",
      "*** Running model on GBPUSD ***\n",
      "\n",
      "Metrics for GBPUSD:\n",
      "          Log Loss  Accuracy       AUC   Returns        SD        SR\n",
      "Period 1  2.106566  0.488000  0.488842  0.172221  0.138738  1.222512\n",
      "Period 2  2.478122  0.556000  0.562983 -0.147946  0.086463 -1.822592\n",
      "Period 3  1.214650  0.540000  0.589221 -0.164042  0.080075 -2.214637\n",
      "Period 4  1.433742  0.480000  0.499904 -0.205898  0.079670 -2.875640\n",
      "Period 5  1.799031  0.520000  0.545385 -0.069787  0.109982 -0.607390\n",
      "Period 6  2.064007  0.540000  0.530779  0.036106  0.073885  0.520906\n",
      "Mean      1.849353  0.520667  0.536185 -0.063224  0.094802 -0.962807 \n",
      "\n",
      "*** Running model on USDJPY ***\n"
     ]
    },
    {
     "name": "stdout",
     "output_type": "stream",
     "text": [
      "\n",
      "Metrics for USDJPY:\n",
      "          Log Loss  Accuracy       AUC   Returns        SD        SR\n",
      "Period 1  2.301441     0.532  0.524320  0.013570  0.115677  0.175460\n",
      "Period 2  2.921234     0.488  0.492280 -0.072899  0.107011 -0.659252\n",
      "Period 3  1.363098     0.452  0.477737 -0.023670  0.064479 -0.342239\n",
      "Period 4  1.337301     0.528  0.530315  0.016562  0.063994  0.290758\n",
      "Period 5  2.173411     0.516  0.517866 -0.083866  0.077857 -1.094987\n",
      "Period 6  1.863702     0.508  0.478047 -0.023328  0.051451 -0.436705\n",
      "Mean      1.993365     0.504  0.503428 -0.028938  0.080078 -0.344494 \n",
      "\n",
      "*** Running model on USDCHF ***\n",
      "\n",
      "Metrics for USDCHF:\n",
      "          Log Loss  Accuracy       AUC   Returns        SD        SR\n",
      "Period 1  1.619547  0.468000  0.494400  0.078398  0.081676  0.972390\n",
      "Period 2  1.637254  0.484000  0.509129 -0.064679  0.077736 -0.827942\n",
      "Period 3  1.432929  0.524000  0.511902 -0.175381  0.063036 -3.050839\n",
      "Period 4  1.681195  0.496000  0.486325 -0.085152  0.055827 -1.578698\n",
      "Period 5  1.475409  0.536000  0.519723 -0.177385  0.066454 -2.927538\n",
      "Period 6  1.898109  0.436000  0.462154 -0.064438  0.062478 -1.043228\n",
      "Mean      1.624074  0.490667  0.497272 -0.081440  0.067868 -1.409309 \n",
      "\n",
      "Elapsed time: 0.47 seconds\n"
     ]
    }
   ],
   "source": [
    "preprocess_prediction.preprocess()\n",
    "preprocess_clustering.preprocess()\n",
    "preprocess_prediction_with_clustering.preprocess(ma_windows_size=MA_WINDOW_SIZE)\n",
    "\n",
    "build_features_clustering_tsfresh.build_features(feature_method=TSFRESH)\n",
    "reduce_features_tsne.reduce_features(feature_method=TSFRESH)\n",
    "\n",
    "hdbs.run_model(TSFRESH_TSNE, plotting=False)\n",
    "\n",
    "build_features_prediction_with_clustering.build_features(feature_method=TSFRESH_TSNE, ma_windows_size=MA_WINDOW_SIZE)\n",
    "\n",
    "metrics_df = LR_clustering_model.run_model(feature_method=TSFRESH_TSNE, ma_windows_size=MA_WINDOW_SIZE, plotting=False)\n"
   ]
  },
  {
   "cell_type": "code",
   "execution_count": 4,
   "id": "12e90e61",
   "metadata": {
    "execution": {
     "iopub.execute_input": "2023-08-30T23:24:44.358231Z",
     "iopub.status.busy": "2023-08-30T23:24:44.358065Z",
     "iopub.status.idle": "2023-08-30T23:24:44.364268Z",
     "shell.execute_reply": "2023-08-30T23:24:44.363986Z"
    },
    "papermill": {
     "duration": 0.008671,
     "end_time": "2023-08-30T23:24:44.365230",
     "exception": false,
     "start_time": "2023-08-30T23:24:44.356559",
     "status": "completed"
    },
    "tags": []
   },
   "outputs": [
    {
     "data": {
      "text/html": [
       "<div>\n",
       "<style scoped>\n",
       "    .dataframe tbody tr th:only-of-type {\n",
       "        vertical-align: middle;\n",
       "    }\n",
       "\n",
       "    .dataframe tbody tr th {\n",
       "        vertical-align: top;\n",
       "    }\n",
       "\n",
       "    .dataframe thead th {\n",
       "        text-align: right;\n",
       "    }\n",
       "</style>\n",
       "<table border=\"1\" class=\"dataframe\">\n",
       "  <thead>\n",
       "    <tr style=\"text-align: right;\">\n",
       "      <th></th>\n",
       "      <th>Log Loss</th>\n",
       "      <th>Accuracy</th>\n",
       "      <th>AUC</th>\n",
       "      <th>Returns</th>\n",
       "      <th>SD</th>\n",
       "      <th>SR</th>\n",
       "    </tr>\n",
       "  </thead>\n",
       "  <tbody>\n",
       "    <tr>\n",
       "      <th>EURUSD</th>\n",
       "      <td>1.862107</td>\n",
       "      <td>0.506000</td>\n",
       "      <td>0.516527</td>\n",
       "      <td>-0.063348</td>\n",
       "      <td>0.070781</td>\n",
       "      <td>-0.937353</td>\n",
       "    </tr>\n",
       "    <tr>\n",
       "      <th>GBPUSD</th>\n",
       "      <td>1.849353</td>\n",
       "      <td>0.520667</td>\n",
       "      <td>0.536185</td>\n",
       "      <td>-0.063224</td>\n",
       "      <td>0.094802</td>\n",
       "      <td>-0.962807</td>\n",
       "    </tr>\n",
       "    <tr>\n",
       "      <th>USDJPY</th>\n",
       "      <td>1.993365</td>\n",
       "      <td>0.504000</td>\n",
       "      <td>0.503428</td>\n",
       "      <td>-0.028938</td>\n",
       "      <td>0.080078</td>\n",
       "      <td>-0.344494</td>\n",
       "    </tr>\n",
       "    <tr>\n",
       "      <th>USDCHF</th>\n",
       "      <td>1.624074</td>\n",
       "      <td>0.490667</td>\n",
       "      <td>0.497272</td>\n",
       "      <td>-0.081440</td>\n",
       "      <td>0.067868</td>\n",
       "      <td>-1.409309</td>\n",
       "    </tr>\n",
       "    <tr>\n",
       "      <th>Mean</th>\n",
       "      <td>1.832225</td>\n",
       "      <td>0.505333</td>\n",
       "      <td>0.513353</td>\n",
       "      <td>-0.059238</td>\n",
       "      <td>0.078382</td>\n",
       "      <td>-0.913491</td>\n",
       "    </tr>\n",
       "  </tbody>\n",
       "</table>\n",
       "</div>"
      ],
      "text/plain": [
       "        Log Loss  Accuracy       AUC   Returns        SD        SR\n",
       "EURUSD  1.862107  0.506000  0.516527 -0.063348  0.070781 -0.937353\n",
       "GBPUSD  1.849353  0.520667  0.536185 -0.063224  0.094802 -0.962807\n",
       "USDJPY  1.993365  0.504000  0.503428 -0.028938  0.080078 -0.344494\n",
       "USDCHF  1.624074  0.490667  0.497272 -0.081440  0.067868 -1.409309\n",
       "Mean    1.832225  0.505333  0.513353 -0.059238  0.078382 -0.913491"
      ]
     },
     "execution_count": 4,
     "metadata": {},
     "output_type": "execute_result"
    }
   ],
   "source": [
    "metrics_df"
   ]
  }
 ],
 "metadata": {
  "kernelspec": {
   "display_name": "venv-metal",
   "language": "python",
   "name": "venv-metal"
  },
  "language_info": {
   "codemirror_mode": {
    "name": "ipython",
    "version": 3
   },
   "file_extension": ".py",
   "mimetype": "text/x-python",
   "name": "python",
   "nbconvert_exporter": "python",
   "pygments_lexer": "ipython3",
   "version": "3.9.15"
  },
  "papermill": {
   "default_parameters": {},
   "duration": 10.746184,
   "end_time": "2023-08-30T23:24:44.891789",
   "environment_variables": {},
   "exception": null,
   "input_path": "/Users/arresejo/Documents/Dissertation/forex_forecasting/scripts/notebooks/../../notebooks/LR_clustering_MA10_tsfresh+tsne_pipeline.ipynb",
   "output_path": "/Users/arresejo/Documents/Dissertation/forex_forecasting/scripts/notebooks/../../notebooks/LR_clustering_MA10_tsfresh+tsne_pipeline.ipynb",
   "parameters": {},
   "start_time": "2023-08-30T23:24:34.145605",
   "version": "2.4.0"
  }
 },
 "nbformat": 4,
 "nbformat_minor": 5
}