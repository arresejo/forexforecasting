{
 "cells": [
  {
   "cell_type": "code",
   "execution_count": 1,
   "id": "ebf97e7e",
   "metadata": {
    "execution": {
     "iopub.execute_input": "2023-08-30T22:11:04.723181Z",
     "iopub.status.busy": "2023-08-30T22:11:04.722990Z",
     "iopub.status.idle": "2023-08-30T22:11:08.508203Z",
     "shell.execute_reply": "2023-08-30T22:11:08.507850Z"
    },
    "papermill": {
     "duration": 3.788753,
     "end_time": "2023-08-30T22:11:08.509471",
     "exception": false,
     "start_time": "2023-08-30T22:11:04.720718",
     "status": "completed"
    },
    "tags": []
   },
   "outputs": [],
   "source": [
    "import sys\n",
    "import os\n",
    "import pandas as pd\n",
    "import matplotlib.pyplot as plt\n",
    "\n",
    "sys.path.insert(0, os.path.abspath('..'))\n",
    "\n",
    "from src.config import TSFRESH, TSFRESH_TSNE\n",
    "from src.features import build_features_prediction_with_clustering, build_features_clustering_tsfresh\n",
    "from src.models.clustering import hdbs\n",
    "from src.models.prediction import RF_clustering_model\n",
    "from src.preprocessing import preprocess_prediction_with_clustering, preprocess_clustering, preprocess_prediction\n",
    "from src.features.reduction import reduce_features_tsne"
   ]
  },
  {
   "cell_type": "code",
   "execution_count": 2,
   "id": "c2f72c09",
   "metadata": {
    "execution": {
     "iopub.execute_input": "2023-08-30T22:11:08.512871Z",
     "iopub.status.busy": "2023-08-30T22:11:08.512581Z",
     "iopub.status.idle": "2023-08-30T22:11:08.514817Z",
     "shell.execute_reply": "2023-08-30T22:11:08.514497Z"
    },
    "papermill": {
     "duration": 0.004913,
     "end_time": "2023-08-30T22:11:08.515751",
     "exception": false,
     "start_time": "2023-08-30T22:11:08.510838",
     "status": "completed"
    },
    "tags": []
   },
   "outputs": [],
   "source": [
    "MA_WINDOW_SIZE = 5"
   ]
  },
  {
   "cell_type": "code",
   "execution_count": 3,
   "id": "043b22a7",
   "metadata": {
    "execution": {
     "iopub.execute_input": "2023-08-30T22:11:08.518117Z",
     "iopub.status.busy": "2023-08-30T22:11:08.517995Z",
     "iopub.status.idle": "2023-08-30T22:12:20.041318Z",
     "shell.execute_reply": "2023-08-30T22:12:20.040983Z"
    },
    "papermill": {
     "duration": 71.527078,
     "end_time": "2023-08-30T22:12:20.043939",
     "exception": false,
     "start_time": "2023-08-30T22:11:08.516861",
     "status": "completed"
    },
    "scrolled": false,
    "tags": []
   },
   "outputs": [
    {
     "name": "stdout",
     "output_type": "stream",
     "text": [
      "*** Preprocessing for prediction ***\n",
      "*** Preprocessing for clustering ***\n"
     ]
    },
    {
     "name": "stdout",
     "output_type": "stream",
     "text": [
      "*** Preprocessing for prediction with clustering ***\n"
     ]
    },
    {
     "name": "stdout",
     "output_type": "stream",
     "text": [
      "*** Building features for clustering ***\n",
      "Features file already available for period 0\n",
      "Features file already available for period 1\n",
      "Features file already available for period 2\n",
      "Features file already available for period 3\n",
      "Features file already available for period 4\n",
      "Features file already available for period 5\n"
     ]
    },
    {
     "name": "stdout",
     "output_type": "stream",
     "text": [
      "*** Running model on period 0 ***\n",
      "\n",
      "Clusters for period 0:\n",
      "{2: ['AUDCAD', 'AUDNZD', 'AUDUSD', 'NZDCAD', 'NZDUSD'], 0: ['AUDCHF', 'CADCHF', 'EURCHF', 'GBPCHF', 'NZDCHF', 'USDCHF'], 1: ['AUDJPY', 'CADJPY', 'CHFJPY', 'EURJPY', 'GBPJPY', 'NZDJPY', 'SGDJPY', 'USDJPY', 'ZARJPY'], 4: ['EURAUD', 'EURCAD', 'EURCZK', 'EURDKK', 'EURGBP', 'EURHUF', 'EURNOK', 'EURNZD', 'EURPLN', 'EURSEK', 'EURUSD', 'GBPAUD', 'GBPCAD', 'GBPNZD', 'GBPUSD', 'USDCAD', 'USDHKD', 'USDMXN', 'USDSGD', 'USDTRY', 'USDZAR'], -1: ['EURTRY'], 3: ['USDCZK', 'USDDKK', 'USDHUF', 'USDNOK', 'USDPLN', 'USDSEK']} \n",
      "\n",
      "\n",
      "Metrics for period 0:\n",
      "   Silhouette  Calinski Harabasz  Davies Bouldin\n",
      "0    0.631297         358.081272        0.380247 \n",
      "\n",
      "*** Running model on period 1 ***\n",
      "\n",
      "Clusters for period 1:\n",
      "{4: ['AUDCAD', 'AUDNZD', 'AUDUSD', 'NZDCAD', 'NZDUSD'], 0: ['AUDCHF', 'CADCHF', 'EURCHF', 'GBPCHF', 'NZDCHF', 'USDCHF'], 2: ['AUDJPY', 'CADJPY', 'CHFJPY', 'EURJPY', 'NZDJPY', 'SGDJPY', 'USDJPY', 'ZARJPY'], 5: ['EURAUD', 'EURCAD', 'EURGBP', 'EURNOK', 'EURNZD', 'EURUSD', 'USDCAD', 'USDCZK', 'USDDKK', 'USDHUF', 'USDMXN', 'USDNOK', 'USDPLN', 'USDSEK', 'USDSGD'], 3: ['EURCZK', 'EURDKK', 'EURHUF', 'EURSEK', 'USDHKD'], -1: ['EURPLN', 'EURTRY', 'USDTRY', 'USDZAR'], 1: ['GBPAUD', 'GBPCAD', 'GBPJPY', 'GBPNZD', 'GBPUSD']} \n",
      "\n",
      "\n",
      "Metrics for period 1:\n",
      "   Silhouette  Calinski Harabasz  Davies Bouldin\n",
      "0    0.591794         103.882418        0.465935 \n",
      "\n",
      "*** Running model on period 2 ***\n",
      "\n",
      "Clusters for period 2:\n",
      "{6: ['AUDCAD', 'AUDNZD', 'AUDUSD', 'NZDCAD', 'NZDUSD'], 0: ['AUDCHF', 'CADCHF', 'EURCHF', 'GBPCHF', 'NZDCHF', 'USDCHF'], 3: ['AUDJPY', 'CADJPY', 'CHFJPY', 'EURJPY', 'NZDJPY', 'SGDJPY', 'USDJPY', 'ZARJPY'], 1: ['EURAUD', 'EURCAD', 'EURGBP', 'EURNZD', 'EURUSD'], 5: ['EURCZK', 'EURDKK', 'USDHKD'], 8: ['EURHUF', 'EURPLN', 'EURSEK'], -1: ['EURNOK', 'USDCAD'], 4: ['EURTRY', 'USDMXN', 'USDTRY', 'USDZAR'], 2: ['GBPAUD', 'GBPCAD', 'GBPJPY', 'GBPNZD', 'GBPUSD'], 7: ['USDCZK', 'USDDKK', 'USDHUF', 'USDNOK', 'USDPLN', 'USDSEK', 'USDSGD']} \n",
      "\n",
      "\n",
      "Metrics for period 2:\n",
      "   Silhouette  Calinski Harabasz  Davies Bouldin\n",
      "0    0.704379         544.687026        0.341588 \n",
      "\n",
      "*** Running model on period 3 ***\n",
      "\n",
      "Clusters for period 3:\n",
      "{4: ['AUDCAD', 'AUDCHF', 'AUDUSD', 'CADCHF', 'NZDCAD', 'NZDCHF', 'NZDUSD'], 0: ['AUDJPY', 'CADJPY', 'CHFJPY', 'EURJPY', 'NZDJPY', 'SGDJPY', 'USDJPY', 'ZARJPY'], 5: ['AUDNZD', 'USDCHF', 'USDCZK', 'USDDKK', 'USDHUF', 'USDMXN', 'USDNOK', 'USDPLN', 'USDSEK', 'USDZAR'], 2: ['EURAUD', 'EURCAD', 'EURGBP', 'EURNZD', 'EURUSD'], 3: ['EURCHF', 'EURCZK', 'EURDKK', 'EURHUF', 'EURNOK', 'EURPLN', 'EURSEK', 'USDCAD', 'USDHKD', 'USDSGD'], -1: ['EURTRY', 'USDTRY'], 1: ['GBPAUD', 'GBPCAD', 'GBPCHF', 'GBPJPY', 'GBPNZD', 'GBPUSD']} \n",
      "\n",
      "\n",
      "Metrics for period 3:\n",
      "   Silhouette  Calinski Harabasz  Davies Bouldin\n",
      "0    0.723479         245.302031        0.354609 \n",
      "\n",
      "*** Running model on period 4 ***\n",
      "\n",
      "Clusters for period 4:\n",
      "{6: ['AUDCAD', 'AUDUSD', 'NZDCAD', 'NZDUSD'], 3: ['AUDCHF', 'CADCHF', 'NZDCHF'], 4: ['AUDJPY', 'CADJPY', 'CHFJPY', 'EURJPY', 'NZDJPY', 'SGDJPY', 'USDJPY', 'ZARJPY'], 5: ['AUDNZD', 'EURAUD', 'EURCAD', 'EURGBP', 'EURNZD', 'EURUSD'], 1: ['EURCHF', 'EURNOK', 'EURSEK', 'USDCAD'], 7: ['EURCZK', 'EURDKK', 'USDHKD'], 8: ['EURHUF', 'EURPLN', 'USDSGD'], -1: ['EURTRY', 'USDTRY'], 0: ['GBPAUD', 'GBPCAD', 'GBPCHF', 'GBPJPY', 'GBPNZD', 'GBPUSD'], 2: ['USDCHF', 'USDCZK', 'USDDKK', 'USDHUF', 'USDMXN', 'USDNOK', 'USDPLN', 'USDSEK', 'USDZAR']} \n",
      "\n",
      "\n",
      "Metrics for period 4:\n",
      "   Silhouette  Calinski Harabasz  Davies Bouldin\n",
      "0    0.605236         171.613812        0.402194 \n",
      "\n",
      "*** Running model on period 5 ***\n",
      "\n",
      "Clusters for period 5:\n",
      "{0: ['AUDCAD', 'AUDCHF', 'AUDJPY', 'AUDUSD', 'NZDCAD', 'NZDCHF', 'NZDJPY', 'NZDUSD', 'ZARJPY'], 1: ['AUDNZD', 'CADCHF', 'CADJPY', 'CHFJPY', 'EURCHF', 'EURDKK', 'EURJPY', 'EURUSD', 'SGDJPY', 'USDJPY'], -1: ['EURAUD', 'EURNOK', 'EURNZD', 'EURTRY', 'USDHKD', 'USDTRY'], 4: ['EURCAD', 'EURCZK', 'EURGBP', 'EURHUF', 'EURPLN', 'GBPAUD', 'GBPCAD', 'GBPNZD', 'USDCAD', 'USDCHF', 'USDDKK', 'USDSGD'], 3: ['EURSEK', 'USDCZK', 'USDHUF', 'USDMXN', 'USDNOK', 'USDPLN', 'USDSEK', 'USDZAR'], 2: ['GBPCHF', 'GBPJPY', 'GBPUSD']} \n",
      "\n",
      "\n",
      "Metrics for period 5:\n",
      "   Silhouette  Calinski Harabasz  Davies Bouldin\n",
      "0    0.516403          94.037747         0.56954 \n",
      "\n",
      "*** Building features for prediction with clustering ***\n"
     ]
    },
    {
     "name": "stdout",
     "output_type": "stream",
     "text": [
      "\n",
      "MA Window Size: 5\n",
      "\n",
      "Python Platform: macOS-13.4-arm64-arm-64bit\n",
      "Tensor Flow Version: 2.13.0\n",
      "\n",
      "Python 3.9.15 (main, Dec  1 2022, 11:52:11) \n",
      "[Clang 14.0.0 (clang-1400.0.29.202)]\n",
      "Pandas 2.0.2\n",
      "Scikit-Learn 1.2.2\n",
      "SciPy 1.11.2\n",
      "GPU is available\n",
      "\n",
      "*** Running model on EURUSD ***\n"
     ]
    },
    {
     "name": "stdout",
     "output_type": "stream",
     "text": [
      "\n",
      "Metrics for EURUSD:\n",
      "          Log Loss  Accuracy       AUC   Returns        SD        SR\n",
      "Period 1  0.697387  0.488000  0.480852  0.101320  0.087387  1.156882\n",
      "Period 2  0.701402  0.496000  0.485406 -0.023500  0.087706 -0.229547\n",
      "Period 3  0.691402  0.560000  0.525962 -0.048552  0.072422 -0.656392\n",
      "Period 4  0.697294  0.516000  0.510561  0.004507  0.054348  0.110581\n",
      "Period 5  0.701982  0.472000  0.471680 -0.117210  0.065671 -1.880207\n",
      "Period 6  0.699943  0.448000  0.457717 -0.139262  0.057245 -2.611254\n",
      "Mean      0.698235  0.496667  0.488696 -0.037116  0.070796 -0.684989 \n",
      "\n",
      "*** Running model on GBPUSD ***\n"
     ]
    },
    {
     "name": "stdout",
     "output_type": "stream",
     "text": [
      "\n",
      "Metrics for GBPUSD:\n",
      "          Log Loss  Accuracy       AUC   Returns        SD        SR\n",
      "Period 1  0.688773  0.568000  0.559880  0.179594  0.138707  1.268395\n",
      "Period 2  0.688140  0.524000  0.542864 -0.004796  0.087031 -0.012224\n",
      "Period 3  0.690255  0.516000  0.533346 -0.065601  0.080747 -0.806540\n",
      "Period 4  0.699733  0.456000  0.479423  0.087485  0.080778  1.087115\n",
      "Period 5  0.688380  0.552000  0.560833 -0.230661  0.108853 -2.372819\n",
      "Period 6  0.683465  0.548000  0.511393 -0.050301  0.073859 -0.667344\n",
      "Mean      0.689791  0.527333  0.531290 -0.014047  0.094996 -0.250569 \n",
      "\n",
      "*** Running model on USDJPY ***\n"
     ]
    },
    {
     "name": "stdout",
     "output_type": "stream",
     "text": [
      "\n",
      "Metrics for USDJPY:\n",
      "          Log Loss  Accuracy       AUC   Returns        SD        SR\n",
      "Period 1  0.698952  0.512000  0.470499 -0.203084  0.114835 -1.934019\n",
      "Period 2  0.695396  0.472000  0.503170  0.059224  0.107028  0.595189\n",
      "Period 3  0.689783  0.524000  0.545647 -0.002032  0.064494  0.000457\n",
      "Period 4  0.688310  0.540000  0.558113 -0.173788  0.062871 -3.028000\n",
      "Period 5  0.684275  0.548000  0.577620 -0.271720  0.075451 -4.195368\n",
      "Period 6  0.696413  0.520000  0.507232 -0.024957  0.051448 -0.469437\n",
      "Mean      0.692188  0.519333  0.527047 -0.102726  0.079355 -1.505196 \n",
      "\n",
      "*** Running model on USDCHF ***\n"
     ]
    },
    {
     "name": "stdout",
     "output_type": "stream",
     "text": [
      "\n",
      "Metrics for USDCHF:\n",
      "          Log Loss  Accuracy       AUC   Returns        SD        SR\n",
      "Period 1  0.695733     0.500  0.510403 -0.051266  0.081769 -0.607696\n",
      "Period 2  0.698796     0.516  0.503200 -0.073724  0.077701 -0.954505\n",
      "Period 3  0.690089     0.544  0.536335 -0.171363  0.063095 -2.970365\n",
      "Period 4  0.683352     0.572  0.590044 -0.296921  0.051493 -6.865531\n",
      "Period 5  0.682827     0.572  0.582004 -0.394682  0.059661 -8.443106\n",
      "Period 6  0.697944     0.488  0.474565 -0.063702  0.062481 -1.030513\n",
      "Mean      0.691457     0.532  0.532759 -0.175276  0.066033 -3.478619 \n",
      "\n",
      "Elapsed time: 65.24 seconds\n"
     ]
    }
   ],
   "source": [
    "preprocess_prediction.preprocess()\n",
    "preprocess_clustering.preprocess()\n",
    "preprocess_prediction_with_clustering.preprocess(ma_windows_size=MA_WINDOW_SIZE)\n",
    "\n",
    "build_features_clustering_tsfresh.build_features(feature_method=TSFRESH)\n",
    "reduce_features_tsne.reduce_features(feature_method=TSFRESH)\n",
    "\n",
    "hdbs.run_model(TSFRESH_TSNE, plotting=False)\n",
    "\n",
    "build_features_prediction_with_clustering.build_features(feature_method=TSFRESH_TSNE, ma_windows_size=MA_WINDOW_SIZE)\n",
    "\n",
    "metrics_df = RF_clustering_model.run_model(feature_method=TSFRESH_TSNE, ma_windows_size=MA_WINDOW_SIZE, plotting=False)\n"
   ]
  },
  {
   "cell_type": "code",
   "execution_count": 4,
   "id": "12e90e61",
   "metadata": {
    "execution": {
     "iopub.execute_input": "2023-08-30T22:12:20.046837Z",
     "iopub.status.busy": "2023-08-30T22:12:20.046673Z",
     "iopub.status.idle": "2023-08-30T22:12:20.053780Z",
     "shell.execute_reply": "2023-08-30T22:12:20.053457Z"
    },
    "papermill": {
     "duration": 0.009792,
     "end_time": "2023-08-30T22:12:20.054737",
     "exception": false,
     "start_time": "2023-08-30T22:12:20.044945",
     "status": "completed"
    },
    "tags": []
   },
   "outputs": [
    {
     "data": {
      "text/html": [
       "<div>\n",
       "<style scoped>\n",
       "    .dataframe tbody tr th:only-of-type {\n",
       "        vertical-align: middle;\n",
       "    }\n",
       "\n",
       "    .dataframe tbody tr th {\n",
       "        vertical-align: top;\n",
       "    }\n",
       "\n",
       "    .dataframe thead th {\n",
       "        text-align: right;\n",
       "    }\n",
       "</style>\n",
       "<table border=\"1\" class=\"dataframe\">\n",
       "  <thead>\n",
       "    <tr style=\"text-align: right;\">\n",
       "      <th></th>\n",
       "      <th>Log Loss</th>\n",
       "      <th>Accuracy</th>\n",
       "      <th>AUC</th>\n",
       "      <th>Returns</th>\n",
       "      <th>SD</th>\n",
       "      <th>SR</th>\n",
       "    </tr>\n",
       "  </thead>\n",
       "  <tbody>\n",
       "    <tr>\n",
       "      <th>EURUSD</th>\n",
       "      <td>0.698235</td>\n",
       "      <td>0.496667</td>\n",
       "      <td>0.488696</td>\n",
       "      <td>-0.037116</td>\n",
       "      <td>0.070796</td>\n",
       "      <td>-0.684989</td>\n",
       "    </tr>\n",
       "    <tr>\n",
       "      <th>GBPUSD</th>\n",
       "      <td>0.689791</td>\n",
       "      <td>0.527333</td>\n",
       "      <td>0.531290</td>\n",
       "      <td>-0.014047</td>\n",
       "      <td>0.094996</td>\n",
       "      <td>-0.250569</td>\n",
       "    </tr>\n",
       "    <tr>\n",
       "      <th>USDJPY</th>\n",
       "      <td>0.692188</td>\n",
       "      <td>0.519333</td>\n",
       "      <td>0.527047</td>\n",
       "      <td>-0.102726</td>\n",
       "      <td>0.079355</td>\n",
       "      <td>-1.505196</td>\n",
       "    </tr>\n",
       "    <tr>\n",
       "      <th>USDCHF</th>\n",
       "      <td>0.691457</td>\n",
       "      <td>0.532000</td>\n",
       "      <td>0.532759</td>\n",
       "      <td>-0.175276</td>\n",
       "      <td>0.066033</td>\n",
       "      <td>-3.478619</td>\n",
       "    </tr>\n",
       "    <tr>\n",
       "      <th>Mean</th>\n",
       "      <td>0.692918</td>\n",
       "      <td>0.518833</td>\n",
       "      <td>0.519948</td>\n",
       "      <td>-0.082291</td>\n",
       "      <td>0.077795</td>\n",
       "      <td>-1.479844</td>\n",
       "    </tr>\n",
       "  </tbody>\n",
       "</table>\n",
       "</div>"
      ],
      "text/plain": [
       "        Log Loss  Accuracy       AUC   Returns        SD        SR\n",
       "EURUSD  0.698235  0.496667  0.488696 -0.037116  0.070796 -0.684989\n",
       "GBPUSD  0.689791  0.527333  0.531290 -0.014047  0.094996 -0.250569\n",
       "USDJPY  0.692188  0.519333  0.527047 -0.102726  0.079355 -1.505196\n",
       "USDCHF  0.691457  0.532000  0.532759 -0.175276  0.066033 -3.478619\n",
       "Mean    0.692918  0.518833  0.519948 -0.082291  0.077795 -1.479844"
      ]
     },
     "execution_count": 4,
     "metadata": {},
     "output_type": "execute_result"
    }
   ],
   "source": [
    "metrics_df"
   ]
  }
 ],
 "metadata": {
  "kernelspec": {
   "display_name": "venv-metal",
   "language": "python",
   "name": "venv-metal"
  },
  "language_info": {
   "codemirror_mode": {
    "name": "ipython",
    "version": 3
   },
   "file_extension": ".py",
   "mimetype": "text/x-python",
   "name": "python",
   "nbconvert_exporter": "python",
   "pygments_lexer": "ipython3",
   "version": "3.9.15"
  },
  "papermill": {
   "default_parameters": {},
   "duration": 76.812384,
   "end_time": "2023-08-30T22:12:20.677005",
   "environment_variables": {},
   "exception": null,
   "input_path": "/Users/arresejo/Documents/Dissertation/forex_forecasting/scripts/notebooks/../../notebooks/RF_clustering_MA5_tsfresh+tsne_pipeline.ipynb",
   "output_path": "/Users/arresejo/Documents/Dissertation/forex_forecasting/scripts/notebooks/../../notebooks/RF_clustering_MA5_tsfresh+tsne_pipeline.ipynb",
   "parameters": {},
   "start_time": "2023-08-30T22:11:03.864621",
   "version": "2.4.0"
  }
 },
 "nbformat": 4,
 "nbformat_minor": 5
}