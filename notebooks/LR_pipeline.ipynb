{
 "cells": [
  {
   "cell_type": "code",
   "execution_count": 1,
   "id": "ebf97e7e",
   "metadata": {
    "execution": {
     "iopub.execute_input": "2023-08-30T21:23:51.107456Z",
     "iopub.status.busy": "2023-08-30T21:23:51.106742Z",
     "iopub.status.idle": "2023-08-30T21:23:55.288907Z",
     "shell.execute_reply": "2023-08-30T21:23:55.288066Z"
    },
    "papermill": {
     "duration": 4.193425,
     "end_time": "2023-08-30T21:23:55.292166",
     "exception": false,
     "start_time": "2023-08-30T21:23:51.098741",
     "status": "completed"
    },
    "tags": []
   },
   "outputs": [],
   "source": [
    "import sys\n",
    "import os\n",
    "import pandas as pd\n",
    "import matplotlib.pyplot as plt\n",
    "\n",
    "sys.path.insert(0, os.path.abspath('..'))\n",
    "\n",
    "from src.features import build_features_prediction\n",
    "from src.models.prediction import LR_model\n",
    "from src.preprocessing import preprocess_prediction"
   ]
  },
  {
   "cell_type": "code",
   "execution_count": 2,
   "id": "043b22a7",
   "metadata": {
    "execution": {
     "iopub.execute_input": "2023-08-30T21:23:55.299232Z",
     "iopub.status.busy": "2023-08-30T21:23:55.298532Z",
     "iopub.status.idle": "2023-08-30T21:23:56.278892Z",
     "shell.execute_reply": "2023-08-30T21:23:56.277918Z"
    },
    "papermill": {
     "duration": 0.987604,
     "end_time": "2023-08-30T21:23:56.282596",
     "exception": false,
     "start_time": "2023-08-30T21:23:55.294992",
     "status": "completed"
    },
    "scrolled": false,
    "tags": []
   },
   "outputs": [
    {
     "name": "stdout",
     "output_type": "stream",
     "text": [
      "*** Preprocessing for prediction ***\n",
      "*** Building features for prediction ***\n"
     ]
    },
    {
     "name": "stdout",
     "output_type": "stream",
     "text": [
      "Python Platform: macOS-13.4-arm64-arm-64bit\n",
      "Tensor Flow Version: 2.13.0\n",
      "\n",
      "Python 3.9.15 (main, Dec  1 2022, 11:52:11) \n",
      "[Clang 14.0.0 (clang-1400.0.29.202)]\n",
      "Pandas 2.0.2\n",
      "Scikit-Learn 1.2.2\n",
      "SciPy 1.11.2\n",
      "GPU is available\n",
      "\n",
      "*** Running model on EURUSD ***\n"
     ]
    },
    {
     "name": "stdout",
     "output_type": "stream",
     "text": [
      "\n",
      "Metrics for EURUSD:\n",
      "          Log Loss  Accuracy       AUC   Returns        SD        SR\n",
      "Period 1  2.074840  0.472000  0.480020 -0.075195  0.087491 -0.856696\n",
      "Period 2  2.113215  0.476000  0.481069 -0.100576  0.087475 -1.177501\n",
      "Period 3  1.456958  0.508000  0.524066 -0.012918  0.072480 -0.144584\n",
      "Period 4  1.725012  0.456000  0.469582 -0.077384  0.054117 -1.472887\n",
      "Period 5  1.214060  0.496000  0.523574 -0.013896  0.066125 -0.180256\n",
      "Period 6  2.263038  0.488000  0.459318 -0.018950  0.058003 -0.303477\n",
      "Mean      1.807854  0.482667  0.489605 -0.049820  0.070949 -0.689234 \n",
      "\n",
      "*** Running model on GBPUSD ***\n",
      "\n",
      "Metrics for GBPUSD:\n",
      "          Log Loss  Accuracy       AUC   Returns        SD        SR\n",
      "Period 1  2.153170  0.492000  0.488755 -0.067929  0.139096 -0.438233\n",
      "Period 2  2.059730  0.540000  0.558396 -0.039271  0.087000 -0.420589\n",
      "Period 3  1.186876  0.500000  0.532531 -0.010919  0.080849 -0.096450\n",
      "Period 4  1.775721  0.472000  0.440541  0.014126  0.080960  0.215120\n",
      "Period 5  1.796243  0.504000  0.510808  0.005663  0.110060  0.106441\n",
      "Period 6  1.828200  0.556000  0.555969  0.136661  0.073456  1.794915\n",
      "Mean      1.799990  0.510667  0.514500  0.006389  0.095237  0.193534 \n",
      "\n",
      "*** Running model on USDJPY ***\n"
     ]
    },
    {
     "name": "stdout",
     "output_type": "stream",
     "text": [
      "\n",
      "Metrics for USDJPY:\n",
      "          Log Loss  Accuracy       AUC   Returns        SD        SR\n",
      "Period 1  1.659493     0.516  0.493216 -0.107324  0.115485 -0.932747\n",
      "Period 2  2.322249     0.476  0.441209 -0.053912  0.107056 -0.468404\n",
      "Period 3  1.356755     0.488  0.493344 -0.053547  0.064406 -0.829007\n",
      "Period 4  1.383536     0.524  0.507650  0.067154  0.063863  1.057927\n",
      "Period 5  1.564637     0.520  0.523950 -0.053375  0.077972 -0.669929\n",
      "Period 6  1.527907     0.488  0.490102 -0.006163  0.051470 -0.095304\n",
      "Mean      1.635763     0.502  0.491578 -0.034528  0.080042 -0.322911 \n",
      "\n",
      "*** Running model on USDCHF ***\n",
      "\n",
      "Metrics for USDCHF:\n",
      "          Log Loss  Accuracy       AUC   Returns        SD        SR\n",
      "Period 1  1.594430  0.480000  0.489397 -0.010045  0.081828 -0.083532\n",
      "Period 2  1.196628  0.492000  0.485976 -0.031179  0.077820 -0.371268\n",
      "Period 3  1.576195  0.516000  0.493340  0.033453  0.064151  0.549160\n",
      "Period 4  1.244240  0.504000  0.483800  0.023191  0.056081  0.440118\n",
      "Period 5  1.377900  0.432000  0.435954 -0.093154  0.067302 -1.430531\n",
      "Period 6  1.934658  0.440000  0.434780 -0.118358  0.062115 -2.012598\n",
      "Mean      1.487342  0.477333  0.470541 -0.032682  0.068216 -0.484775 \n",
      "\n",
      "Elapsed time: 0.76 seconds\n"
     ]
    }
   ],
   "source": [
    "preprocess_prediction.preprocess()\n",
    "build_features_prediction.build_features()\n",
    "\n",
    "metrics_df = LR_model.run_model(plotting=False)"
   ]
  },
  {
   "cell_type": "code",
   "execution_count": 3,
   "id": "12e90e61",
   "metadata": {
    "execution": {
     "iopub.execute_input": "2023-08-30T21:23:56.290047Z",
     "iopub.status.busy": "2023-08-30T21:23:56.289686Z",
     "iopub.status.idle": "2023-08-30T21:23:56.346801Z",
     "shell.execute_reply": "2023-08-30T21:23:56.345889Z"
    },
    "papermill": {
     "duration": 0.063625,
     "end_time": "2023-08-30T21:23:56.350652",
     "exception": false,
     "start_time": "2023-08-30T21:23:56.287027",
     "status": "completed"
    },
    "tags": []
   },
   "outputs": [
    {
     "data": {
      "text/html": [
       "<div>\n",
       "<style scoped>\n",
       "    .dataframe tbody tr th:only-of-type {\n",
       "        vertical-align: middle;\n",
       "    }\n",
       "\n",
       "    .dataframe tbody tr th {\n",
       "        vertical-align: top;\n",
       "    }\n",
       "\n",
       "    .dataframe thead th {\n",
       "        text-align: right;\n",
       "    }\n",
       "</style>\n",
       "<table border=\"1\" class=\"dataframe\">\n",
       "  <thead>\n",
       "    <tr style=\"text-align: right;\">\n",
       "      <th></th>\n",
       "      <th>Log Loss</th>\n",
       "      <th>Accuracy</th>\n",
       "      <th>AUC</th>\n",
       "      <th>Returns</th>\n",
       "      <th>SD</th>\n",
       "      <th>SR</th>\n",
       "    </tr>\n",
       "  </thead>\n",
       "  <tbody>\n",
       "    <tr>\n",
       "      <th>EURUSD</th>\n",
       "      <td>1.807854</td>\n",
       "      <td>0.482667</td>\n",
       "      <td>0.489605</td>\n",
       "      <td>-0.049820</td>\n",
       "      <td>0.070949</td>\n",
       "      <td>-0.689234</td>\n",
       "    </tr>\n",
       "    <tr>\n",
       "      <th>GBPUSD</th>\n",
       "      <td>1.799990</td>\n",
       "      <td>0.510667</td>\n",
       "      <td>0.514500</td>\n",
       "      <td>0.006389</td>\n",
       "      <td>0.095237</td>\n",
       "      <td>0.193534</td>\n",
       "    </tr>\n",
       "    <tr>\n",
       "      <th>USDJPY</th>\n",
       "      <td>1.635763</td>\n",
       "      <td>0.502000</td>\n",
       "      <td>0.491578</td>\n",
       "      <td>-0.034528</td>\n",
       "      <td>0.080042</td>\n",
       "      <td>-0.322911</td>\n",
       "    </tr>\n",
       "    <tr>\n",
       "      <th>USDCHF</th>\n",
       "      <td>1.487342</td>\n",
       "      <td>0.477333</td>\n",
       "      <td>0.470541</td>\n",
       "      <td>-0.032682</td>\n",
       "      <td>0.068216</td>\n",
       "      <td>-0.484775</td>\n",
       "    </tr>\n",
       "    <tr>\n",
       "      <th>Mean</th>\n",
       "      <td>1.682737</td>\n",
       "      <td>0.493167</td>\n",
       "      <td>0.491556</td>\n",
       "      <td>-0.027660</td>\n",
       "      <td>0.078611</td>\n",
       "      <td>-0.325846</td>\n",
       "    </tr>\n",
       "  </tbody>\n",
       "</table>\n",
       "</div>"
      ],
      "text/plain": [
       "        Log Loss  Accuracy       AUC   Returns        SD        SR\n",
       "EURUSD  1.807854  0.482667  0.489605 -0.049820  0.070949 -0.689234\n",
       "GBPUSD  1.799990  0.510667  0.514500  0.006389  0.095237  0.193534\n",
       "USDJPY  1.635763  0.502000  0.491578 -0.034528  0.080042 -0.322911\n",
       "USDCHF  1.487342  0.477333  0.470541 -0.032682  0.068216 -0.484775\n",
       "Mean    1.682737  0.493167  0.491556 -0.027660  0.078611 -0.325846"
      ]
     },
     "execution_count": 3,
     "metadata": {},
     "output_type": "execute_result"
    }
   ],
   "source": [
    "metrics_df"
   ]
  }
 ],
 "metadata": {
  "kernelspec": {
   "display_name": "venv-metal",
   "language": "python",
   "name": "venv-metal"
  },
  "language_info": {
   "codemirror_mode": {
    "name": "ipython",
    "version": 3
   },
   "file_extension": ".py",
   "mimetype": "text/x-python",
   "name": "python",
   "nbconvert_exporter": "python",
   "pygments_lexer": "ipython3",
   "version": "3.9.15"
  },
  "papermill": {
   "default_parameters": {},
   "duration": 6.664488,
   "end_time": "2023-08-30T21:23:56.883588",
   "environment_variables": {},
   "exception": null,
   "input_path": "/Users/arresejo/Documents/Dissertation/forex_forecasting/scripts/notebooks/../../notebooks/LR_pipeline.ipynb",
   "output_path": "/Users/arresejo/Documents/Dissertation/forex_forecasting/scripts/notebooks/../../notebooks/LR_pipeline.ipynb",
   "parameters": {},
   "start_time": "2023-08-30T21:23:50.219100",
   "version": "2.4.0"
  }
 },
 "nbformat": 4,
 "nbformat_minor": 5
}