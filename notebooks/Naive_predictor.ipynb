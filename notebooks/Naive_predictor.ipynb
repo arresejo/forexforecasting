{
 "cells": [
  {
   "cell_type": "code",
   "execution_count": 1,
   "id": "ebf97e7e",
   "metadata": {
    "execution": {
     "iopub.execute_input": "2023-08-30T21:23:18.317044Z",
     "iopub.status.busy": "2023-08-30T21:23:18.316878Z",
     "iopub.status.idle": "2023-08-30T21:23:49.332321Z",
     "shell.execute_reply": "2023-08-30T21:23:49.331871Z"
    },
    "papermill": {
     "duration": 31.021992,
     "end_time": "2023-08-30T21:23:49.334016",
     "exception": false,
     "start_time": "2023-08-30T21:23:18.312024",
     "status": "completed"
    },
    "tags": []
   },
   "outputs": [],
   "source": [
    "import sys\n",
    "import os\n",
    "import pandas as pd\n",
    "import matplotlib.pyplot as plt\n",
    "\n",
    "sys.path.insert(0, os.path.abspath('..'))\n",
    "\n",
    "from src.models.prediction import naive_model"
   ]
  },
  {
   "cell_type": "code",
   "execution_count": 2,
   "id": "0d30532e",
   "metadata": {
    "execution": {
     "iopub.execute_input": "2023-08-30T21:23:49.337509Z",
     "iopub.status.busy": "2023-08-30T21:23:49.337147Z",
     "iopub.status.idle": "2023-08-30T21:23:49.373594Z",
     "shell.execute_reply": "2023-08-30T21:23:49.373159Z"
    },
    "papermill": {
     "duration": 0.03899,
     "end_time": "2023-08-30T21:23:49.374758",
     "exception": false,
     "start_time": "2023-08-30T21:23:49.335768",
     "status": "completed"
    },
    "tags": []
   },
   "outputs": [
    {
     "data": {
      "text/html": [
       "<div>\n",
       "<style scoped>\n",
       "    .dataframe tbody tr th:only-of-type {\n",
       "        vertical-align: middle;\n",
       "    }\n",
       "\n",
       "    .dataframe tbody tr th {\n",
       "        vertical-align: top;\n",
       "    }\n",
       "\n",
       "    .dataframe thead th {\n",
       "        text-align: right;\n",
       "    }\n",
       "</style>\n",
       "<table border=\"1\" class=\"dataframe\">\n",
       "  <thead>\n",
       "    <tr style=\"text-align: right;\">\n",
       "      <th></th>\n",
       "      <th>Accuracy</th>\n",
       "      <th>AUC</th>\n",
       "      <th>Returns</th>\n",
       "      <th>SD</th>\n",
       "      <th>SR</th>\n",
       "    </tr>\n",
       "  </thead>\n",
       "  <tbody>\n",
       "    <tr>\n",
       "      <th>EURUSD</th>\n",
       "      <td>0.493098</td>\n",
       "      <td>0.493079</td>\n",
       "      <td>-0.129670</td>\n",
       "      <td>0.055680</td>\n",
       "      <td>-0.213117</td>\n",
       "    </tr>\n",
       "    <tr>\n",
       "      <th>GBPUSD</th>\n",
       "      <td>0.509969</td>\n",
       "      <td>0.509842</td>\n",
       "      <td>0.098113</td>\n",
       "      <td>0.067109</td>\n",
       "      <td>0.168663</td>\n",
       "    </tr>\n",
       "    <tr>\n",
       "      <th>USDJPY</th>\n",
       "      <td>0.492331</td>\n",
       "      <td>0.490779</td>\n",
       "      <td>0.236841</td>\n",
       "      <td>0.063327</td>\n",
       "      <td>0.356031</td>\n",
       "    </tr>\n",
       "    <tr>\n",
       "      <th>USDCHF</th>\n",
       "      <td>0.501534</td>\n",
       "      <td>0.501270</td>\n",
       "      <td>-0.028030</td>\n",
       "      <td>0.069307</td>\n",
       "      <td>-0.003357</td>\n",
       "    </tr>\n",
       "    <tr>\n",
       "      <th>Mean</th>\n",
       "      <td>0.499233</td>\n",
       "      <td>0.498742</td>\n",
       "      <td>0.044314</td>\n",
       "      <td>0.063856</td>\n",
       "      <td>0.077055</td>\n",
       "    </tr>\n",
       "  </tbody>\n",
       "</table>\n",
       "</div>"
      ],
      "text/plain": [
       "        Accuracy       AUC   Returns        SD        SR\n",
       "EURUSD  0.493098  0.493079 -0.129670  0.055680 -0.213117\n",
       "GBPUSD  0.509969  0.509842  0.098113  0.067109  0.168663\n",
       "USDJPY  0.492331  0.490779  0.236841  0.063327  0.356031\n",
       "USDCHF  0.501534  0.501270 -0.028030  0.069307 -0.003357\n",
       "Mean    0.499233  0.498742  0.044314  0.063856  0.077055"
      ]
     },
     "execution_count": 2,
     "metadata": {},
     "output_type": "execute_result"
    }
   ],
   "source": [
    "naive_model.run_model()"
   ]
  }
 ],
 "metadata": {
  "kernelspec": {
   "display_name": "venv-metal",
   "language": "python",
   "name": "venv-metal"
  },
  "language_info": {
   "codemirror_mode": {
    "name": "ipython",
    "version": 3
   },
   "file_extension": ".py",
   "mimetype": "text/x-python",
   "name": "python",
   "nbconvert_exporter": "python",
   "pygments_lexer": "ipython3",
   "version": "3.9.15"
  },
  "papermill": {
   "default_parameters": {},
   "duration": 32.624554,
   "end_time": "2023-08-30T21:23:49.896420",
   "environment_variables": {},
   "exception": null,
   "input_path": "/Users/arresejo/Documents/Dissertation/forex_forecasting/scripts/notebooks/../../notebooks/Naive_predictor.ipynb",
   "output_path": "/Users/arresejo/Documents/Dissertation/forex_forecasting/scripts/notebooks/../../notebooks/Naive_predictor.ipynb",
   "parameters": {},
   "start_time": "2023-08-30T21:23:17.271866",
   "version": "2.4.0"
  }
 },
 "nbformat": 4,
 "nbformat_minor": 5
}