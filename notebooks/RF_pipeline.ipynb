{
 "cells": [
  {
   "cell_type": "code",
   "execution_count": 1,
   "id": "ebf97e7e",
   "metadata": {
    "execution": {
     "iopub.execute_input": "2023-08-30T21:23:57.978035Z",
     "iopub.status.busy": "2023-08-30T21:23:57.977434Z",
     "iopub.status.idle": "2023-08-30T21:24:01.201046Z",
     "shell.execute_reply": "2023-08-30T21:24:01.200741Z"
    },
    "papermill": {
     "duration": 3.232701,
     "end_time": "2023-08-30T21:24:01.202205",
     "exception": false,
     "start_time": "2023-08-30T21:23:57.969504",
     "status": "completed"
    },
    "tags": []
   },
   "outputs": [],
   "source": [
    "import sys\n",
    "import os\n",
    "import pandas as pd\n",
    "import matplotlib.pyplot as plt\n",
    "\n",
    "sys.path.insert(0, os.path.abspath('..'))\n",
    "\n",
    "from src.features import build_features_prediction\n",
    "from src.models.prediction import RF_model\n",
    "from src.preprocessing import preprocess_prediction"
   ]
  },
  {
   "cell_type": "code",
   "execution_count": 2,
   "id": "043b22a7",
   "metadata": {
    "execution": {
     "iopub.execute_input": "2023-08-30T21:24:01.204354Z",
     "iopub.status.busy": "2023-08-30T21:24:01.204037Z",
     "iopub.status.idle": "2023-08-30T21:25:04.326485Z",
     "shell.execute_reply": "2023-08-30T21:25:04.325964Z"
    },
    "papermill": {
     "duration": 63.126433,
     "end_time": "2023-08-30T21:25:04.329468",
     "exception": false,
     "start_time": "2023-08-30T21:24:01.203035",
     "status": "completed"
    },
    "scrolled": false,
    "tags": []
   },
   "outputs": [
    {
     "name": "stdout",
     "output_type": "stream",
     "text": [
      "*** Preprocessing for prediction ***\n",
      "*** Building features for prediction ***\n",
      "Python Platform: macOS-13.4-arm64-arm-64bit\n",
      "Tensor Flow Version: 2.13.0\n",
      "\n",
      "Python 3.9.15 (main, Dec  1 2022, 11:52:11) \n",
      "[Clang 14.0.0 (clang-1400.0.29.202)]\n",
      "Pandas 2.0.2\n",
      "Scikit-Learn 1.2.2\n",
      "SciPy 1.11.2\n",
      "GPU is available\n",
      "\n",
      "*** Running model on EURUSD ***\n"
     ]
    },
    {
     "name": "stdout",
     "output_type": "stream",
     "text": [
      "\n",
      "Metrics for EURUSD:\n",
      "          Log Loss  Accuracy       AUC   Returns        SD        SR\n",
      "Period 1  0.698569  0.436000  0.464844 -0.110563  0.087322 -1.308507\n",
      "Period 2  0.701541  0.500000  0.468031 -0.141852  0.087203 -1.723987\n",
      "Period 3  0.690205  0.508000  0.542595  0.158046  0.071860  2.094735\n",
      "Period 4  0.699677  0.476000  0.484151 -0.051072  0.054253 -0.946746\n",
      "Period 5  0.700587  0.476000  0.465809 -0.032937  0.066100 -0.477620\n",
      "Period 6  0.696013  0.480000  0.492158 -0.008722  0.058012 -0.123207\n",
      "Mean      0.697766  0.479333  0.486265 -0.031183  0.070792 -0.414222 \n",
      "\n",
      "*** Running model on GBPUSD ***\n"
     ]
    },
    {
     "name": "stdout",
     "output_type": "stream",
     "text": [
      "\n",
      "Metrics for GBPUSD:\n",
      "          Log Loss  Accuracy       AUC   Returns        SD        SR\n",
      "Period 1  0.692468     0.520  0.521453  0.194341  0.138642  1.359214\n",
      "Period 2  0.695240     0.500  0.569639 -0.019055  0.087025 -0.179267\n",
      "Period 3  0.704538     0.524  0.473297  0.083263  0.080678  1.039734\n",
      "Period 4  0.701842     0.488  0.498383 -0.062349  0.080874 -0.761809\n",
      "Period 5  0.691999     0.548  0.553815  0.092145  0.109900  0.863286\n",
      "Period 6  0.691968     0.552  0.558631  0.080374  0.073750  1.093655\n",
      "Mean      0.696342     0.522  0.529203  0.061453  0.095145  0.569135 \n",
      "\n",
      "*** Running model on USDJPY ***\n"
     ]
    },
    {
     "name": "stdout",
     "output_type": "stream",
     "text": [
      "\n",
      "Metrics for USDJPY:\n",
      "          Log Loss  Accuracy       AUC   Returns        SD        SR\n",
      "Period 1  0.706085  0.496000  0.435388 -0.037578  0.115667 -0.276002\n",
      "Period 2  0.693910  0.488000  0.491372 -0.110206  0.106871 -1.047780\n",
      "Period 3  0.704976  0.484000  0.453437 -0.075428  0.064311 -1.196822\n",
      "Period 4  0.698424  0.524000  0.480987  0.068951  0.063856  1.084599\n",
      "Period 5  0.691042  0.544000  0.534580 -0.014914  0.078038 -0.154953\n",
      "Period 6  0.698389  0.520000  0.486034  0.082743  0.051214  1.590502\n",
      "Mean      0.698804  0.509333  0.480300 -0.014405  0.079993 -0.000076 \n",
      "\n",
      "*** Running model on USDCHF ***\n"
     ]
    },
    {
     "name": "stdout",
     "output_type": "stream",
     "text": [
      "\n",
      "Metrics for USDCHF:\n",
      "          Log Loss  Accuracy       AUC   Returns        SD        SR\n",
      "Period 1  0.695168  0.492000  0.563745  0.051928  0.081757  0.665018\n",
      "Period 2  0.706376  0.468000  0.430168  0.025410  0.077821  0.363821\n",
      "Period 3  0.698858  0.484000  0.493180 -0.027520  0.064169 -0.406246\n",
      "Period 4  0.699974  0.452000  0.471304 -0.111987  0.055607 -2.124610\n",
      "Period 5  0.705710  0.448000  0.474872 -0.069927  0.067427 -1.049832\n",
      "Period 6  0.701904  0.436000  0.438172 -0.144875  0.061839 -2.519422\n",
      "Mean      0.701331  0.463333  0.478574 -0.046162  0.068103 -0.845212 \n",
      "\n",
      "Elapsed time: 62.94 seconds\n"
     ]
    }
   ],
   "source": [
    "preprocess_prediction.preprocess()\n",
    "build_features_prediction.build_features()\n",
    "\n",
    "metrics_df = RF_model.run_model(plotting=False)"
   ]
  },
  {
   "cell_type": "code",
   "execution_count": 3,
   "id": "12e90e61",
   "metadata": {
    "execution": {
     "iopub.execute_input": "2023-08-30T21:25:04.332098Z",
     "iopub.status.busy": "2023-08-30T21:25:04.331923Z",
     "iopub.status.idle": "2023-08-30T21:25:04.341021Z",
     "shell.execute_reply": "2023-08-30T21:25:04.340647Z"
    },
    "papermill": {
     "duration": 0.01185,
     "end_time": "2023-08-30T21:25:04.342210",
     "exception": false,
     "start_time": "2023-08-30T21:25:04.330360",
     "status": "completed"
    },
    "tags": []
   },
   "outputs": [
    {
     "data": {
      "text/html": [
       "<div>\n",
       "<style scoped>\n",
       "    .dataframe tbody tr th:only-of-type {\n",
       "        vertical-align: middle;\n",
       "    }\n",
       "\n",
       "    .dataframe tbody tr th {\n",
       "        vertical-align: top;\n",
       "    }\n",
       "\n",
       "    .dataframe thead th {\n",
       "        text-align: right;\n",
       "    }\n",
       "</style>\n",
       "<table border=\"1\" class=\"dataframe\">\n",
       "  <thead>\n",
       "    <tr style=\"text-align: right;\">\n",
       "      <th></th>\n",
       "      <th>Log Loss</th>\n",
       "      <th>Accuracy</th>\n",
       "      <th>AUC</th>\n",
       "      <th>Returns</th>\n",
       "      <th>SD</th>\n",
       "      <th>SR</th>\n",
       "    </tr>\n",
       "  </thead>\n",
       "  <tbody>\n",
       "    <tr>\n",
       "      <th>EURUSD</th>\n",
       "      <td>0.697766</td>\n",
       "      <td>0.479333</td>\n",
       "      <td>0.486265</td>\n",
       "      <td>-0.031183</td>\n",
       "      <td>0.070792</td>\n",
       "      <td>-0.414222</td>\n",
       "    </tr>\n",
       "    <tr>\n",
       "      <th>GBPUSD</th>\n",
       "      <td>0.696342</td>\n",
       "      <td>0.522000</td>\n",
       "      <td>0.529203</td>\n",
       "      <td>0.061453</td>\n",
       "      <td>0.095145</td>\n",
       "      <td>0.569135</td>\n",
       "    </tr>\n",
       "    <tr>\n",
       "      <th>USDJPY</th>\n",
       "      <td>0.698804</td>\n",
       "      <td>0.509333</td>\n",
       "      <td>0.480300</td>\n",
       "      <td>-0.014405</td>\n",
       "      <td>0.079993</td>\n",
       "      <td>-0.000076</td>\n",
       "    </tr>\n",
       "    <tr>\n",
       "      <th>USDCHF</th>\n",
       "      <td>0.701331</td>\n",
       "      <td>0.463333</td>\n",
       "      <td>0.478574</td>\n",
       "      <td>-0.046162</td>\n",
       "      <td>0.068103</td>\n",
       "      <td>-0.845212</td>\n",
       "    </tr>\n",
       "    <tr>\n",
       "      <th>Mean</th>\n",
       "      <td>0.698561</td>\n",
       "      <td>0.493500</td>\n",
       "      <td>0.493585</td>\n",
       "      <td>-0.007574</td>\n",
       "      <td>0.078508</td>\n",
       "      <td>-0.172594</td>\n",
       "    </tr>\n",
       "  </tbody>\n",
       "</table>\n",
       "</div>"
      ],
      "text/plain": [
       "        Log Loss  Accuracy       AUC   Returns        SD        SR\n",
       "EURUSD  0.697766  0.479333  0.486265 -0.031183  0.070792 -0.414222\n",
       "GBPUSD  0.696342  0.522000  0.529203  0.061453  0.095145  0.569135\n",
       "USDJPY  0.698804  0.509333  0.480300 -0.014405  0.079993 -0.000076\n",
       "USDCHF  0.701331  0.463333  0.478574 -0.046162  0.068103 -0.845212\n",
       "Mean    0.698561  0.493500  0.493585 -0.007574  0.078508 -0.172594"
      ]
     },
     "execution_count": 3,
     "metadata": {},
     "output_type": "execute_result"
    }
   ],
   "source": [
    "metrics_df"
   ]
  }
 ],
 "metadata": {
  "kernelspec": {
   "display_name": "venv-metal",
   "language": "python",
   "name": "venv-metal"
  },
  "language_info": {
   "codemirror_mode": {
    "name": "ipython",
    "version": 3
   },
   "file_extension": ".py",
   "mimetype": "text/x-python",
   "name": "python",
   "nbconvert_exporter": "python",
   "pygments_lexer": "ipython3",
   "version": "3.9.15"
  },
  "papermill": {
   "default_parameters": {},
   "duration": 67.815757,
   "end_time": "2023-08-30T21:25:04.966745",
   "environment_variables": {},
   "exception": null,
   "input_path": "/Users/arresejo/Documents/Dissertation/forex_forecasting/scripts/notebooks/../../notebooks/RF_pipeline.ipynb",
   "output_path": "/Users/arresejo/Documents/Dissertation/forex_forecasting/scripts/notebooks/../../notebooks/RF_pipeline.ipynb",
   "parameters": {},
   "start_time": "2023-08-30T21:23:57.150988",
   "version": "2.4.0"
  }
 },
 "nbformat": 4,
 "nbformat_minor": 5
}