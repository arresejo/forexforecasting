{
 "cells": [
  {
   "cell_type": "code",
   "execution_count": 1,
   "id": "ebf97e7e",
   "metadata": {
    "execution": {
     "iopub.execute_input": "2023-08-30T23:24:45.961667Z",
     "iopub.status.busy": "2023-08-30T23:24:45.960728Z",
     "iopub.status.idle": "2023-08-30T23:24:48.847834Z",
     "shell.execute_reply": "2023-08-30T23:24:48.847484Z"
    },
    "papermill": {
     "duration": 2.901532,
     "end_time": "2023-08-30T23:24:48.849094",
     "exception": false,
     "start_time": "2023-08-30T23:24:45.947562",
     "status": "completed"
    },
    "tags": []
   },
   "outputs": [],
   "source": [
    "import sys\n",
    "import os\n",
    "import pandas as pd\n",
    "import matplotlib.pyplot as plt\n",
    "\n",
    "sys.path.insert(0, os.path.abspath('..'))\n",
    "\n",
    "from src.config import TSFRESH, TSFRESH_TSNE\n",
    "from src.features import build_features_prediction_with_clustering, build_features_clustering_tsfresh\n",
    "from src.models.clustering import hdbs\n",
    "from src.models.prediction import RF_clustering_model\n",
    "from src.preprocessing import preprocess_prediction_with_clustering, preprocess_clustering, preprocess_prediction\n",
    "from src.features.reduction import reduce_features_tsne"
   ]
  },
  {
   "cell_type": "code",
   "execution_count": 2,
   "id": "ee919884",
   "metadata": {
    "execution": {
     "iopub.execute_input": "2023-08-30T23:24:48.851237Z",
     "iopub.status.busy": "2023-08-30T23:24:48.851021Z",
     "iopub.status.idle": "2023-08-30T23:24:48.852940Z",
     "shell.execute_reply": "2023-08-30T23:24:48.852662Z"
    },
    "papermill": {
     "duration": 0.003899,
     "end_time": "2023-08-30T23:24:48.853858",
     "exception": false,
     "start_time": "2023-08-30T23:24:48.849959",
     "status": "completed"
    },
    "tags": []
   },
   "outputs": [],
   "source": [
    "MA_WINDOW_SIZE = 10"
   ]
  },
  {
   "cell_type": "code",
   "execution_count": 3,
   "id": "043b22a7",
   "metadata": {
    "execution": {
     "iopub.execute_input": "2023-08-30T23:24:48.855666Z",
     "iopub.status.busy": "2023-08-30T23:24:48.855568Z",
     "iopub.status.idle": "2023-08-30T23:25:55.066818Z",
     "shell.execute_reply": "2023-08-30T23:25:55.066470Z"
    },
    "papermill": {
     "duration": 66.213817,
     "end_time": "2023-08-30T23:25:55.068398",
     "exception": false,
     "start_time": "2023-08-30T23:24:48.854581",
     "status": "completed"
    },
    "scrolled": false,
    "tags": []
   },
   "outputs": [
    {
     "name": "stdout",
     "output_type": "stream",
     "text": [
      "*** Preprocessing for prediction ***\n",
      "*** Preprocessing for clustering ***\n"
     ]
    },
    {
     "name": "stdout",
     "output_type": "stream",
     "text": [
      "*** Preprocessing for prediction with clustering ***\n"
     ]
    },
    {
     "name": "stdout",
     "output_type": "stream",
     "text": [
      "*** Building features for clustering ***\n",
      "Features file already available for period 0\n",
      "Features file already available for period 1\n",
      "Features file already available for period 2\n",
      "Features file already available for period 3\n",
      "Features file already available for period 4\n",
      "Features file already available for period 5\n"
     ]
    },
    {
     "name": "stdout",
     "output_type": "stream",
     "text": [
      "*** Running model on period 0 ***\n",
      "\n",
      "Clusters for period 0:\n",
      "{2: ['AUDCAD', 'AUDNZD', 'AUDUSD', 'NZDCAD', 'NZDUSD'], 0: ['AUDCHF', 'CADCHF', 'EURCHF', 'GBPCHF', 'NZDCHF', 'USDCHF'], 1: ['AUDJPY', 'CADJPY', 'CHFJPY', 'EURJPY', 'GBPJPY', 'NZDJPY', 'SGDJPY', 'USDJPY', 'ZARJPY'], 4: ['EURAUD', 'EURCAD', 'EURCZK', 'EURDKK', 'EURGBP', 'EURHUF', 'EURNOK', 'EURNZD', 'EURPLN', 'EURSEK', 'EURUSD', 'GBPAUD', 'GBPCAD', 'GBPNZD', 'GBPUSD', 'USDCAD', 'USDHKD', 'USDMXN', 'USDSGD', 'USDTRY', 'USDZAR'], -1: ['EURTRY'], 3: ['USDCZK', 'USDDKK', 'USDHUF', 'USDNOK', 'USDPLN', 'USDSEK']} \n",
      "\n",
      "\n",
      "Metrics for period 0:\n",
      "   Silhouette  Calinski Harabasz  Davies Bouldin\n",
      "0    0.631297         358.081272        0.380247 \n",
      "\n",
      "*** Running model on period 1 ***\n",
      "\n",
      "Clusters for period 1:\n",
      "{4: ['AUDCAD', 'AUDNZD', 'AUDUSD', 'NZDCAD', 'NZDUSD'], 0: ['AUDCHF', 'CADCHF', 'EURCHF', 'GBPCHF', 'NZDCHF', 'USDCHF'], 2: ['AUDJPY', 'CADJPY', 'CHFJPY', 'EURJPY', 'NZDJPY', 'SGDJPY', 'USDJPY', 'ZARJPY'], 5: ['EURAUD', 'EURCAD', 'EURGBP', 'EURNOK', 'EURNZD', 'EURUSD', 'USDCAD', 'USDCZK', 'USDDKK', 'USDHUF', 'USDMXN', 'USDNOK', 'USDPLN', 'USDSEK', 'USDSGD'], 3: ['EURCZK', 'EURDKK', 'EURHUF', 'EURSEK', 'USDHKD'], -1: ['EURPLN', 'EURTRY', 'USDTRY', 'USDZAR'], 1: ['GBPAUD', 'GBPCAD', 'GBPJPY', 'GBPNZD', 'GBPUSD']} \n",
      "\n",
      "\n",
      "Metrics for period 1:\n",
      "   Silhouette  Calinski Harabasz  Davies Bouldin\n",
      "0    0.591794         103.882418        0.465935 \n",
      "\n",
      "*** Running model on period 2 ***\n",
      "\n",
      "Clusters for period 2:\n",
      "{6: ['AUDCAD', 'AUDNZD', 'AUDUSD', 'NZDCAD', 'NZDUSD'], 0: ['AUDCHF', 'CADCHF', 'EURCHF', 'GBPCHF', 'NZDCHF', 'USDCHF'], 3: ['AUDJPY', 'CADJPY', 'CHFJPY', 'EURJPY', 'NZDJPY', 'SGDJPY', 'USDJPY', 'ZARJPY'], 1: ['EURAUD', 'EURCAD', 'EURGBP', 'EURNZD', 'EURUSD'], 5: ['EURCZK', 'EURDKK', 'USDHKD'], 8: ['EURHUF', 'EURPLN', 'EURSEK'], -1: ['EURNOK', 'USDCAD'], 4: ['EURTRY', 'USDMXN', 'USDTRY', 'USDZAR'], 2: ['GBPAUD', 'GBPCAD', 'GBPJPY', 'GBPNZD', 'GBPUSD'], 7: ['USDCZK', 'USDDKK', 'USDHUF', 'USDNOK', 'USDPLN', 'USDSEK', 'USDSGD']} \n",
      "\n",
      "\n",
      "Metrics for period 2:\n",
      "   Silhouette  Calinski Harabasz  Davies Bouldin\n",
      "0    0.704379         544.687026        0.341588 \n",
      "\n",
      "*** Running model on period 3 ***\n",
      "\n",
      "Clusters for period 3:\n",
      "{4: ['AUDCAD', 'AUDCHF', 'AUDUSD', 'CADCHF', 'NZDCAD', 'NZDCHF', 'NZDUSD'], 0: ['AUDJPY', 'CADJPY', 'CHFJPY', 'EURJPY', 'NZDJPY', 'SGDJPY', 'USDJPY', 'ZARJPY'], 5: ['AUDNZD', 'USDCHF', 'USDCZK', 'USDDKK', 'USDHUF', 'USDMXN', 'USDNOK', 'USDPLN', 'USDSEK', 'USDZAR'], 2: ['EURAUD', 'EURCAD', 'EURGBP', 'EURNZD', 'EURUSD'], 3: ['EURCHF', 'EURCZK', 'EURDKK', 'EURHUF', 'EURNOK', 'EURPLN', 'EURSEK', 'USDCAD', 'USDHKD', 'USDSGD'], -1: ['EURTRY', 'USDTRY'], 1: ['GBPAUD', 'GBPCAD', 'GBPCHF', 'GBPJPY', 'GBPNZD', 'GBPUSD']} \n",
      "\n",
      "\n",
      "Metrics for period 3:\n",
      "   Silhouette  Calinski Harabasz  Davies Bouldin\n",
      "0    0.723479         245.302031        0.354609 \n",
      "\n",
      "*** Running model on period 4 ***\n",
      "\n",
      "Clusters for period 4:\n",
      "{6: ['AUDCAD', 'AUDUSD', 'NZDCAD', 'NZDUSD'], 3: ['AUDCHF', 'CADCHF', 'NZDCHF'], 4: ['AUDJPY', 'CADJPY', 'CHFJPY', 'EURJPY', 'NZDJPY', 'SGDJPY', 'USDJPY', 'ZARJPY'], 5: ['AUDNZD', 'EURAUD', 'EURCAD', 'EURGBP', 'EURNZD', 'EURUSD'], 1: ['EURCHF', 'EURNOK', 'EURSEK', 'USDCAD'], 7: ['EURCZK', 'EURDKK', 'USDHKD'], 8: ['EURHUF', 'EURPLN', 'USDSGD'], -1: ['EURTRY', 'USDTRY'], 0: ['GBPAUD', 'GBPCAD', 'GBPCHF', 'GBPJPY', 'GBPNZD', 'GBPUSD'], 2: ['USDCHF', 'USDCZK', 'USDDKK', 'USDHUF', 'USDMXN', 'USDNOK', 'USDPLN', 'USDSEK', 'USDZAR']} \n",
      "\n",
      "\n",
      "Metrics for period 4:\n",
      "   Silhouette  Calinski Harabasz  Davies Bouldin\n",
      "0    0.605236         171.613812        0.402194 \n",
      "\n",
      "*** Running model on period 5 ***\n",
      "\n",
      "Clusters for period 5:\n",
      "{0: ['AUDCAD', 'AUDCHF', 'AUDJPY', 'AUDUSD', 'NZDCAD', 'NZDCHF', 'NZDJPY', 'NZDUSD', 'ZARJPY'], 1: ['AUDNZD', 'CADCHF', 'CADJPY', 'CHFJPY', 'EURCHF', 'EURDKK', 'EURJPY', 'EURUSD', 'SGDJPY', 'USDJPY'], -1: ['EURAUD', 'EURNOK', 'EURNZD', 'EURTRY', 'USDHKD', 'USDTRY'], 4: ['EURCAD', 'EURCZK', 'EURGBP', 'EURHUF', 'EURPLN', 'GBPAUD', 'GBPCAD', 'GBPNZD', 'USDCAD', 'USDCHF', 'USDDKK', 'USDSGD'], 3: ['EURSEK', 'USDCZK', 'USDHUF', 'USDMXN', 'USDNOK', 'USDPLN', 'USDSEK', 'USDZAR'], 2: ['GBPCHF', 'GBPJPY', 'GBPUSD']} \n",
      "\n",
      "\n",
      "Metrics for period 5:\n",
      "   Silhouette  Calinski Harabasz  Davies Bouldin\n",
      "0    0.516403          94.037747         0.56954 \n",
      "\n",
      "*** Building features for prediction with clustering ***\n"
     ]
    },
    {
     "name": "stdout",
     "output_type": "stream",
     "text": [
      "\n",
      "MA Window Size: 10\n",
      "\n",
      "Python Platform: macOS-13.4-arm64-arm-64bit\n",
      "Tensor Flow Version: 2.13.0\n",
      "\n",
      "Python 3.9.15 (main, Dec  1 2022, 11:52:11) \n",
      "[Clang 14.0.0 (clang-1400.0.29.202)]\n",
      "Pandas 2.0.2\n",
      "Scikit-Learn 1.2.2\n",
      "SciPy 1.11.2\n",
      "GPU is available\n",
      "\n",
      "*** Running model on EURUSD ***\n"
     ]
    },
    {
     "name": "stdout",
     "output_type": "stream",
     "text": [
      "\n",
      "Metrics for EURUSD:\n",
      "          Log Loss  Accuracy       AUC   Returns        SD        SR\n",
      "Period 1  0.696559  0.480000  0.484316 -0.133969  0.087166 -1.619228\n",
      "Period 2  0.706696  0.472000  0.481942 -0.016387  0.087712 -0.146111\n",
      "Period 3  0.683156  0.564000  0.573292 -0.113394  0.072097 -1.646275\n",
      "Period 4  0.686973  0.532000  0.554936 -0.085705  0.054061 -1.643366\n",
      "Period 5  0.704628  0.460000  0.513696 -0.127525  0.065578 -2.063585\n",
      "Period 6  0.697881  0.496000  0.472057  0.089880  0.057746  1.531515\n",
      "Mean      0.695982  0.500667  0.513373 -0.064517  0.070726 -0.931175 \n",
      "\n",
      "*** Running model on GBPUSD ***\n"
     ]
    },
    {
     "name": "stdout",
     "output_type": "stream",
     "text": [
      "\n",
      "Metrics for GBPUSD:\n",
      "          Log Loss  Accuracy       AUC   Returns        SD        SR\n",
      "Period 1  0.689209  0.532000  0.553373  0.112751  0.138953  0.843041\n",
      "Period 2  0.694602  0.524000  0.510133  0.073229  0.086902  0.863249\n",
      "Period 3  0.691469  0.528000  0.479870 -0.030360  0.080832 -0.344023\n",
      "Period 4  0.702610  0.456000  0.471435 -0.325300  0.077082 -5.102942\n",
      "Period 5  0.686707  0.536000  0.567772 -0.143705  0.109654 -1.370619\n",
      "Period 6  0.685721  0.540000  0.535227  0.075014  0.073771  1.025383\n",
      "Mean      0.691720  0.519333  0.519635 -0.039729  0.094532 -0.680985 \n",
      "\n",
      "*** Running model on USDJPY ***\n"
     ]
    },
    {
     "name": "stdout",
     "output_type": "stream",
     "text": [
      "\n",
      "Metrics for USDJPY:\n",
      "          Log Loss  Accuracy       AUC   Returns        SD        SR\n",
      "Period 1  0.699236     0.532  0.439119 -0.204985  0.114817 -1.955331\n",
      "Period 2  0.693537     0.476  0.535492  0.041029  0.107063  0.431807\n",
      "Period 3  0.704522     0.492  0.474886 -0.120289  0.063995 -1.986200\n",
      "Period 4  0.695280     0.492  0.514545  0.066369  0.063866  1.046191\n",
      "Period 5  0.694083     0.500  0.555470  0.025192  0.078022  0.360346\n",
      "Period 6  0.695423     0.496  0.497888  0.137817  0.050800  2.587953\n",
      "Mean      0.697013     0.498  0.502900 -0.009145  0.079760  0.080794 \n",
      "\n",
      "*** Running model on USDCHF ***\n"
     ]
    },
    {
     "name": "stdout",
     "output_type": "stream",
     "text": [
      "\n",
      "Metrics for USDCHF:\n",
      "          Log Loss  Accuracy       AUC   Returns        SD        SR\n",
      "Period 1  0.692821  0.528000  0.509920 -0.160693  0.081098 -2.135922\n",
      "Period 2  0.701468  0.504000  0.489717 -0.143986  0.077237 -1.989551\n",
      "Period 3  0.691539  0.504000  0.517209 -0.170473  0.063107 -2.952612\n",
      "Period 4  0.699635  0.500000  0.487738 -0.091353  0.055783 -1.702874\n",
      "Period 5  0.697290  0.504000  0.514857 -0.176131  0.066472 -2.903662\n",
      "Period 6  0.702655  0.452000  0.432121 -0.053800  0.062521 -0.860245\n",
      "Mean      0.697568  0.498667  0.491927 -0.132739  0.067703 -2.090811 \n",
      "\n",
      "Elapsed time: 61.19 seconds\n"
     ]
    }
   ],
   "source": [
    "preprocess_prediction.preprocess()\n",
    "preprocess_clustering.preprocess()\n",
    "preprocess_prediction_with_clustering.preprocess(ma_windows_size=MA_WINDOW_SIZE)\n",
    "\n",
    "build_features_clustering_tsfresh.build_features(feature_method=TSFRESH)\n",
    "reduce_features_tsne.reduce_features(feature_method=TSFRESH)\n",
    "\n",
    "hdbs.run_model(TSFRESH_TSNE, plotting=False)\n",
    "\n",
    "build_features_prediction_with_clustering.build_features(feature_method=TSFRESH_TSNE, ma_windows_size=MA_WINDOW_SIZE)\n",
    "\n",
    "metrics_df = RF_clustering_model.run_model(feature_method=TSFRESH_TSNE, ma_windows_size=MA_WINDOW_SIZE, plotting=False)\n"
   ]
  },
  {
   "cell_type": "code",
   "execution_count": 4,
   "id": "12e90e61",
   "metadata": {
    "execution": {
     "iopub.execute_input": "2023-08-30T23:25:55.070922Z",
     "iopub.status.busy": "2023-08-30T23:25:55.070795Z",
     "iopub.status.idle": "2023-08-30T23:25:55.077178Z",
     "shell.execute_reply": "2023-08-30T23:25:55.076902Z"
    },
    "papermill": {
     "duration": 0.00879,
     "end_time": "2023-08-30T23:25:55.078154",
     "exception": false,
     "start_time": "2023-08-30T23:25:55.069364",
     "status": "completed"
    },
    "tags": []
   },
   "outputs": [
    {
     "data": {
      "text/html": [
       "<div>\n",
       "<style scoped>\n",
       "    .dataframe tbody tr th:only-of-type {\n",
       "        vertical-align: middle;\n",
       "    }\n",
       "\n",
       "    .dataframe tbody tr th {\n",
       "        vertical-align: top;\n",
       "    }\n",
       "\n",
       "    .dataframe thead th {\n",
       "        text-align: right;\n",
       "    }\n",
       "</style>\n",
       "<table border=\"1\" class=\"dataframe\">\n",
       "  <thead>\n",
       "    <tr style=\"text-align: right;\">\n",
       "      <th></th>\n",
       "      <th>Log Loss</th>\n",
       "      <th>Accuracy</th>\n",
       "      <th>AUC</th>\n",
       "      <th>Returns</th>\n",
       "      <th>SD</th>\n",
       "      <th>SR</th>\n",
       "    </tr>\n",
       "  </thead>\n",
       "  <tbody>\n",
       "    <tr>\n",
       "      <th>EURUSD</th>\n",
       "      <td>0.695982</td>\n",
       "      <td>0.500667</td>\n",
       "      <td>0.513373</td>\n",
       "      <td>-0.064517</td>\n",
       "      <td>0.070726</td>\n",
       "      <td>-0.931175</td>\n",
       "    </tr>\n",
       "    <tr>\n",
       "      <th>GBPUSD</th>\n",
       "      <td>0.691720</td>\n",
       "      <td>0.519333</td>\n",
       "      <td>0.519635</td>\n",
       "      <td>-0.039729</td>\n",
       "      <td>0.094532</td>\n",
       "      <td>-0.680985</td>\n",
       "    </tr>\n",
       "    <tr>\n",
       "      <th>USDJPY</th>\n",
       "      <td>0.697013</td>\n",
       "      <td>0.498000</td>\n",
       "      <td>0.502900</td>\n",
       "      <td>-0.009145</td>\n",
       "      <td>0.079760</td>\n",
       "      <td>0.080794</td>\n",
       "    </tr>\n",
       "    <tr>\n",
       "      <th>USDCHF</th>\n",
       "      <td>0.697568</td>\n",
       "      <td>0.498667</td>\n",
       "      <td>0.491927</td>\n",
       "      <td>-0.132739</td>\n",
       "      <td>0.067703</td>\n",
       "      <td>-2.090811</td>\n",
       "    </tr>\n",
       "    <tr>\n",
       "      <th>Mean</th>\n",
       "      <td>0.695571</td>\n",
       "      <td>0.504167</td>\n",
       "      <td>0.506959</td>\n",
       "      <td>-0.061532</td>\n",
       "      <td>0.078181</td>\n",
       "      <td>-0.905544</td>\n",
       "    </tr>\n",
       "  </tbody>\n",
       "</table>\n",
       "</div>"
      ],
      "text/plain": [
       "        Log Loss  Accuracy       AUC   Returns        SD        SR\n",
       "EURUSD  0.695982  0.500667  0.513373 -0.064517  0.070726 -0.931175\n",
       "GBPUSD  0.691720  0.519333  0.519635 -0.039729  0.094532 -0.680985\n",
       "USDJPY  0.697013  0.498000  0.502900 -0.009145  0.079760  0.080794\n",
       "USDCHF  0.697568  0.498667  0.491927 -0.132739  0.067703 -2.090811\n",
       "Mean    0.695571  0.504167  0.506959 -0.061532  0.078181 -0.905544"
      ]
     },
     "execution_count": 4,
     "metadata": {},
     "output_type": "execute_result"
    }
   ],
   "source": [
    "metrics_df"
   ]
  }
 ],
 "metadata": {
  "kernelspec": {
   "display_name": "venv-metal",
   "language": "python",
   "name": "venv-metal"
  },
  "language_info": {
   "codemirror_mode": {
    "name": "ipython",
    "version": 3
   },
   "file_extension": ".py",
   "mimetype": "text/x-python",
   "name": "python",
   "nbconvert_exporter": "python",
   "pygments_lexer": "ipython3",
   "version": "3.9.15"
  },
  "papermill": {
   "default_parameters": {},
   "duration": 70.486557,
   "end_time": "2023-08-30T23:25:55.605207",
   "environment_variables": {},
   "exception": null,
   "input_path": "/Users/arresejo/Documents/Dissertation/forex_forecasting/scripts/notebooks/../../notebooks/RF_clustering_MA10_tsfresh+tsne_pipeline.ipynb",
   "output_path": "/Users/arresejo/Documents/Dissertation/forex_forecasting/scripts/notebooks/../../notebooks/RF_clustering_MA10_tsfresh+tsne_pipeline.ipynb",
   "parameters": {},
   "start_time": "2023-08-30T23:24:45.118650",
   "version": "2.4.0"
  }
 },
 "nbformat": 4,
 "nbformat_minor": 5
}